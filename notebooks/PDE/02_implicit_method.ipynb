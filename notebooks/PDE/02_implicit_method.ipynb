{
 "cells": [
  {
   "cell_type": "markdown",
   "metadata": {},
   "source": [
    "# 陰解法"
   ]
  },
  {
   "cell_type": "markdown",
   "metadata": {},
   "source": [
    "熱方程式（拡散方程式）は\n",
    "$$\n",
    "\\frac{\\partial u}{\\partial t} = D_u\\frac{\\partial^2 u}{\\partial x^2}\n",
    "$$\n",
    "と記述される．$u=u(x,t)$は，時刻$t$における位置$x$での温度(または，ある物質の濃度)である．"
   ]
  },
  {
   "cell_type": "markdown",
   "metadata": {},
   "source": [
    "陽解法では、右辺の二階偏微分（ラプラシアン）の差分表現として\n",
    "$$\n",
    "\\begin{aligned}\n",
    "\\frac{\\partial^2 u(x,t)}{\\partial x^2} \n",
    "&\\simeq \\frac{u(x+\\varDelta x, t) - 2 u(x,t) + u(x-\\varDelta x, t)}{\\varDelta x^2} \\\\\n",
    "&= \\frac{u(x_{i+1}, t_{n}) - 2u(x_i, t_n)+ u(x_{i-1}, t_n)}{\\varDelta x^2} \n",
    "\\end{aligned}\n",
    "$$\n",
    "を用いていた。"
   ]
  },
  {
   "cell_type": "markdown",
   "metadata": {},
   "source": [
    "陰解法では、二階偏微分の差分表現として\n",
    "$$\n",
    "\\begin{aligned}\n",
    "\\frac{\\partial^2 u(x,t)}{\\partial x^2} \n",
    "&\\simeq \\frac{u(x+\\varDelta x, t+\\varDelta t) - 2 u(x,t+\\varDelta t) + u(x-\\varDelta x, t+\\varDelta t)}{\\varDelta x^2} \\\\\n",
    "&= \\frac{u(x_{i+1}, t_{n+1}) - 2u(x_i, t_{n+1})+ u(x_{i-1}, t_{n+1})}{\\varDelta x^2} \n",
    "\\end{aligned}\n",
    "$$\n",
    "を用いる。"
   ]
  },
  {
   "cell_type": "markdown",
   "metadata": {},
   "source": [
    "これを元の方程式に代入すると、\n",
    "$$\n",
    "\\frac{u(x_i, t_{n+1}) - u (x_i, t_n) }{\\varDelta t} = D_u\\frac{u(x_{i+1}, t_{n+1}) - 2u(x_i, t_{n+1})+ u(x_{i-1}, t_{n+1})}{\\varDelta x^2} \n",
    "$$\n",
    "となる．"
   ]
  },
  {
   "cell_type": "markdown",
   "metadata": {},
   "source": [
    "これを$u(x_i, t_{n+1})$について整理すると\n",
    "$$\n",
    "u(x_i, t_{n+1}) - u (x_i, t_n) = D_u\\varDelta t \\frac{u(x_{i+1}, t_{n+1}) - 2u(x_i, t_{n+1})+ u(x_{i-1}, t_{n+1})}{\\varDelta x^2}  \\\\\n",
    "u(x_i, t_{n+1})-D_u\\frac{\\varDelta t}{\\varDelta x^2} u(x_{i+1}, t_{n+1}) + 2D_u\\frac{\\varDelta t}{\\varDelta x^2}u(x_i, t_{n+1}) - D_u\\frac{\\varDelta t}{\\varDelta x^2} u(x_{i-1}, t_{n+1}) = u (x_i, t_n) \\\\\n",
    "-D_u\\frac{\\varDelta t}{\\varDelta x^2} u(x_{i+1}, t_{n+1}) + (1+2D_u\\frac{\\varDelta t}{\\varDelta x^2})u(x_i, t_{n+1}) - D_u\\frac{\\varDelta t}{\\varDelta x^2} u(x_{i-1}, t_{n+1}) = u (x_i, t_n) \n",
    "$$\n",
    "ここで、$r=\\frac{\\varDelta t}{\\varDelta x^2}$とすると\n",
    "$$\n",
    "-D_ur u(x_{i+1}, t_{n+1}) + (1+2D_ur)u(x_i, t_{n+1}) - D_ur u(x_{i-1}, t_{n+1}) = u (x_i, t_n) \n",
    "$$"
   ]
  },
  {
   "cell_type": "markdown",
   "metadata": {},
   "source": [
    "$$\n",
    "\\begin{pmatrix}\n",
    "1-2D_u r &   -D_ur  &  0      & \\cdots &   0      & -D_ur \\\\\n",
    "-D_ur    & 1-2D_u r &  -D_ur  & \\cdots &   0      & 0     \\\\\n",
    "0        &  -D_ur   &  \\ddots &        & \\vdots   & \\vdots\\\\\n",
    "\\vdots   & \\vdots   &  \\      & \\ddots &  -D_ur   & 0\\\\\n",
    "0        &  0       &  \\cdots &  -D_ur & 1-2D_u r & -D_ur  \\\\\n",
    "-D_ur    &  0       &  \\cdots & 0      &   -D_ur  & 1-2D_u r\\\\\n",
    "\\end{pmatrix}\n",
    "\\begin{pmatrix}\n",
    "u(x_1, t_{i+1})\\\\\n",
    "\\vdots\\\\\n",
    "\\vdots\\\\\n",
    "\\vdots\\\\\n",
    "u(x_N, t_{i+1})\\\\\n",
    "\\end{pmatrix}\n",
    "=\n",
    "\\begin{pmatrix}\n",
    "u(x_1, t_{i})\\\\\n",
    "\\vdots\\\\\n",
    "\\vdots\\\\\n",
    "\\vdots\\\\\n",
    "u(x_N, t_{i})\\\\\n",
    "\\end{pmatrix}\n",
    "$$"
   ]
  },
  {
   "cell_type": "markdown",
   "metadata": {},
   "source": []
  },
  {
   "cell_type": "markdown",
   "metadata": {},
   "source": [
    "すなわち、\n",
    "$$\n",
    "A\\bold{u}_{t+1} = \\bold{u}_t\\\\\n",
    "\\bold{u}_{t+1} = A^{-1}\\bold{u}_t\n",
    "\n",
    "$$"
   ]
  },
  {
   "cell_type": "code",
   "execution_count": null,
   "metadata": {
    "vscode": {
     "languageId": "plaintext"
    }
   },
   "outputs": [],
   "source": []
  }
 ],
 "metadata": {
  "language_info": {
   "name": "python"
  }
 },
 "nbformat": 4,
 "nbformat_minor": 2
}
