{
 "cells": [
  {
   "cell_type": "code",
   "execution_count": 1,
   "metadata": {},
   "outputs": [],
   "source": [
    "import numpy as np\n",
    "import matplotlib.pyplot as plt"
   ]
  },
  {
   "cell_type": "markdown",
   "metadata": {},
   "source": [
    "# 導入"
   ]
  },
  {
   "cell_type": "markdown",
   "metadata": {},
   "source": [
    "## 差分表現\n",
    "微分の離散バージョン"
   ]
  },
  {
   "cell_type": "markdown",
   "metadata": {},
   "source": [
    "### 一階差分\n",
    "- 前進差分\n",
    "$$\n",
    "f'(x) = \\frac{df(x)}{dx} \\simeq \\frac{f(x + \\varDelta x)- f(x)}{\\varDelta x}=\\frac{f(x_{i+1})- f(x_i)}{\\varDelta x}\n",
    "$$\n",
    "- 後進差分\n",
    "$$\n",
    "f'(x) = \\frac{df(x)}{dx} \\simeq \\frac{f(x )- f(x - \\varDelta x)}{\\varDelta x}=\\frac{f(x_i)- f(x_{i-1})}{\\varDelta x}\n",
    "$$\n",
    "### 二階中心差分\n",
    "$$\n",
    "\\begin{aligned}\n",
    "f''(x) = \\frac{df'(x)}{dx} \n",
    "&\\simeq \\frac{f'(x + \\varDelta x)- f'(x)}{\\varDelta x}\\\\\n",
    "&\\simeq \\frac{\\frac{f(x_{i+1})-f(x_i)}{\\varDelta x} - \\frac{f(x_i) - f(x_{i-1})}{\\varDelta x}}{\\varDelta x}\\\\\n",
    "&= \\frac{f(x_{i+1}) - 2f(x_i) + f(x_{i-1})}{\\varDelta x^2}\n",
    "\n",
    "\\end{aligned}\n",
    "$$"
   ]
  },
  {
   "cell_type": "markdown",
   "metadata": {},
   "source": [
    "## 連立差分方程式（連立漸化式）"
   ]
  },
  {
   "cell_type": "markdown",
   "metadata": {},
   "source": [
    "以下の差分方程式（漸化式）\n",
    "$$\n",
    "a_i^{(n+1)} = a_i^{(n)} + \\alpha_{i, i}a_{i}^{(n)} + \\alpha_{i,i+1}a_{i+1}^{(n)} + \\alpha_{i,i+2}a_{i+2}^{(n)}\n",
    "$$\n",
    "を考える．（ただし，$i=2$のとき$i+2$を$1$とし， $i=3$のとき$i+1$を$1$, $i+2$=$2$とする）   \n",
    "この差分方程式を連立方程式で書くと．\n",
    "$$\n",
    "\\left\\{ \\,\n",
    "    \\begin{aligned}\n",
    "    & a_1^{(n+1)} = a_1^{(n)} + \\alpha_{11}a_1^{(n)} + \\alpha_{12}a_2^{(n)} + \\alpha_{13}a_3^{(n)} \\\\\n",
    "    & a_2^{(n+1)} = a_1^{(n)} + \\alpha_{12}a_1^{(n)} + \\alpha_{22}a_2^{(n)} + \\alpha_{23}a_3^{(n)}\\\\\n",
    "    & a_3^{(n+1)} = a_1^{(n)} + \\alpha_{12}a_1^{(n)} + \\alpha_{32}a_2^{(n)} + \\alpha_{33}a_3^{(n)}\n",
    "    \\end{aligned}\n",
    "\\right.\n",
    "$$\n",
    "と表せられる．さらに，行列とベクトルを用いて\n",
    "$$\n",
    "\\begin{pmatrix}\n",
    "a_1^{(n+1)}\\\\\n",
    "a_2^{(n+1)}\\\\\n",
    "a_3^{(n+1)}\\\\\n",
    "\\end{pmatrix}\n",
    "=\n",
    "\\begin{pmatrix}\n",
    "a_1^{(n)}\\\\\n",
    "a_2^{(n)}\\\\\n",
    "a_3^{(n)}\\\\\n",
    "\\end{pmatrix}\n",
    "+\n",
    "\\begin{pmatrix}\n",
    "\\alpha_{11}&\\alpha_{12}&\\alpha_{13}\\\\\n",
    "\\alpha_{21}&\\alpha_{22}&\\alpha_{23}\\\\\n",
    "\\alpha_{31}&\\alpha_{32}&\\alpha_{33}\\\\\n",
    "\\end{pmatrix}\n",
    "\\begin{pmatrix}\n",
    "a_1^{(n)}\\\\\n",
    "a_2^{(n)}\\\\\n",
    "a_3^{(n)}\\\\\n",
    "\\end{pmatrix}\n",
    "$$\n",
    "と表せられる．"
   ]
  },
  {
   "cell_type": "markdown",
   "metadata": {},
   "source": [
    "ここで記述の簡略化のために\n",
    "$$\n",
    "\\boldsymbol{a}_{n+1}  = \\begin{pmatrix}\n",
    "a_1^{(n+1)}\\\\\n",
    "a_2^{(n+1)}\\\\\n",
    "a_3^{(n+1)}\\\\\n",
    "\\end{pmatrix}, A = \\begin{pmatrix}\n",
    "\\alpha_{11}&\\alpha_{12}&\\alpha_{13}\\\\\n",
    "\\alpha_{21}&\\alpha_{22}&\\alpha_{23}\\\\\n",
    "\\alpha_{31}&\\alpha_{32}&\\alpha_{33}\\\\\n",
    "\\end{pmatrix}\n",
    "$$\n",
    "と表記すると，\n",
    "$$\n",
    "\\boldsymbol{a}_{n+1} = \\boldsymbol{a}_{n} + A \\boldsymbol{a}_{n}\n",
    "$$\n",
    "とベクトル$\\boldsymbol{a}_{n}$の漸化式となる．"
   ]
  },
  {
   "cell_type": "markdown",
   "metadata": {},
   "source": [
    "# 熱方程式（拡散方程式）\n",
    "熱方程式（拡散方程式）は\n",
    "$$\n",
    "\\frac{\\partial u}{\\partial t} = D_u\\frac{\\partial^2 u}{\\partial x^2}\n",
    "$$\n",
    "と記述される．$u=u(x,t)$は，時刻$t$における位置$x$での温度(または，ある物質の濃度)である．"
   ]
  },
  {
   "cell_type": "markdown",
   "metadata": {},
   "source": [
    "ここで，上記の差分表現を用ると，まず左辺は，\n",
    "$$\n",
    "\\begin{aligned}\n",
    "\\frac{\\partial u(x,t)}{\\partial x} \n",
    "&\\simeq \\frac{u(x,t+\\varDelta t) - u(x,t)}{\\varDelta t} \\\\\n",
    "&= \\frac{u(x_i, t_{n+1}) - u (x_i, t_n) }{\\varDelta t} \n",
    "\\end{aligned}\n",
    "$$\n",
    "となる．また，右辺の二階偏微分（ラプラシアン）は，\n",
    "$$\n",
    "\\begin{aligned}\n",
    "\\frac{\\partial^2 u(x,t)}{\\partial x^2} \n",
    "&\\simeq \\frac{u(x+\\varDelta x, t) - 2 u(x,t) + u(x-\\varDelta x, t)}{\\varDelta x^2} \\\\\n",
    "&= \\frac{u(x_{i+1}, t_{n}) - 2u(x_i, t_n)+ u(x_{i-1}, t_n)}{\\varDelta x^2} \n",
    "\\end{aligned}\n",
    "$$\n",
    "となる．"
   ]
  },
  {
   "cell_type": "markdown",
   "metadata": {},
   "source": [
    "したがって，元の方程式に代入すると，\n",
    "$$\n",
    "\\frac{u(x_i, t_{n+1}) - u (x_i, t_n) }{\\varDelta t} = D_u\\frac{u(x_{i+1}, t_{n}) - 2u(x_i, t_n)+ u(x_{i-1}, t_n)}{\\varDelta x^2} \n",
    "$$\n",
    "となる．"
   ]
  },
  {
   "cell_type": "markdown",
   "metadata": {},
   "source": [
    "これを，$u(x_i, t_{n+1})$について整理すると，\n",
    "$$\n",
    "\\begin{aligned}\n",
    "u(x_i, t_{n+1}) - u (x_i, t_n)  &= D_u \\varDelta t \\frac{u(x_{i+1}, t_{n}) - 2u(x_i, t_n)+ u(x_{i-1}, t_n)}{\\varDelta x^2} \\\\\n",
    "u(x_i, t_{n+1}) &= u (x_i, t_n) + D_u\\frac{\\varDelta t}{\\varDelta x^2} \\Big(u(x_{i+1}, t_{n}) - 2u(x_i, t_n)+ u(x_{i-1}, t_n)\\Big)\\\\\n",
    "\\end{aligned}\n",
    "$$\n",
    "となる．これを上記の連立差分方程式でやったように行列とベクトルを用いて表記すると，"
   ]
  },
  {
   "cell_type": "markdown",
   "metadata": {},
   "source": [
    "$$\n",
    "\\begin{pmatrix}\n",
    "u(x_1, t_{i+1})\\\\\n",
    "\\vdots\\\\\n",
    "\\vdots\\\\\n",
    "\\vdots\\\\\n",
    "u(x_N, t_{i+1})\\\\\n",
    "\\end{pmatrix}\n",
    "=\n",
    "\\begin{pmatrix}\n",
    "u(x_1, t_{i})\\\\\n",
    "\\vdots\\\\\n",
    "\\vdots\\\\\n",
    "\\vdots\\\\\n",
    "u(x_N, t_{i})\\\\\n",
    "\\end{pmatrix}\n",
    "+\n",
    "D_u\n",
    "\\frac{\\varDelta t}{\\varDelta x^2}\n",
    "\\begin{pmatrix}\n",
    "-2     &   1    &  0      & \\cdots &   0    &  \\beta \\\\\n",
    "1      &  -2    &  1      & \\cdots &   0    &  0     \\\\\n",
    "0      &   1    &  \\ddots &        & \\vdots &  \\vdots\\\\\n",
    "\\vdots & \\vdots &  \\      & \\ddots &   1    &  0\\\\\n",
    "0      &  0     &  \\cdots & 1      &  -2    &  1     \\\\\n",
    "\\beta  &  0     &  \\cdots & 0      &  1     &  -2    \\\\\n",
    "\\end{pmatrix}\n",
    "\\begin{pmatrix}\n",
    "u(x_1, t_{i})\\\\\n",
    "\\vdots\\\\\n",
    "\\vdots\\\\\n",
    "\\vdots\\\\\n",
    "u(x_N, t_{i})\\\\\n",
    "\\end{pmatrix}\n",
    "$$"
   ]
  },
  {
   "cell_type": "markdown",
   "metadata": {},
   "source": [
    "となる．"
   ]
  },
  {
   "cell_type": "markdown",
   "metadata": {},
   "source": [
    "## 境界条件\n",
    "- 周期境界条件（端と端が繋がっている．）\n",
    "$$\n",
    "u(x,t) = u(x+L,t)\n",
    "$$\n",
    "- Dirichlet境界条件（境界での温度が一定．）\n",
    "$$\n",
    "u(0,t) = b_0, ~~~u(L,t) = b_L\\\\\n",
    "$$\n",
    "\n",
    "- Neumann境界条件（境界での温度勾配が一定．）\n",
    "$$\n",
    "\\begin{aligned}\n",
    "\\left. \\frac{\\partial u}{\\partial x}\\right|_{x=1} = b_0, ~~~\\left. \\frac{\\partial u}{\\partial x}\\right|_{x=L} = b_L\\\\\n",
    "\\end{aligned}\n",
    "$$"
   ]
  },
  {
   "cell_type": "markdown",
   "metadata": {},
   "source": [
    "### 周期境界条件\n",
    "すべての$x_i$で\n",
    "$$\n",
    "u(x_i, t_{n+1}) = u (x_i, t_n) + D_u\\frac{\\varDelta t}{\\varDelta x^2} \\Big(u(x_{i+1}, t_{n}) - 2u(x_i, t_n)+ u(x_{i-1}, t_n)\\Big)\n",
    "$$\n",
    "であるから，$\\beta=1$．\n",
    "$$\n",
    "\\begin{pmatrix}\n",
    "u(x_1, t_{i+1})\\\\\n",
    "\\vdots\\\\\n",
    "\\vdots\\\\\n",
    "\\vdots\\\\\n",
    "u(x_N, t_{i+1})\\\\\n",
    "\\end{pmatrix}\n",
    "=\n",
    "\\begin{pmatrix}\n",
    "u(x_1, t_{i})\\\\\n",
    "\\vdots\\\\\n",
    "\\vdots\\\\\n",
    "\\vdots\\\\\n",
    "u(x_N, t_{i})\\\\\n",
    "\\end{pmatrix}\n",
    "+\n",
    "D_u\n",
    "\\frac{\\varDelta t}{\\varDelta x^2}\n",
    "\\begin{pmatrix}\n",
    "-2     &   1    &  0      & \\cdots &   0    &  1 \\\\\n",
    "1      &  -2    &  1      & \\cdots &   0    &  0     \\\\\n",
    "0      &   1    &  \\ddots &        & \\vdots &  \\vdots\\\\\n",
    "\\vdots & \\vdots &  \\      & \\ddots &   1    &  0\\\\\n",
    "0      &  0     &  \\cdots & 1      &  -2    &  1     \\\\\n",
    "1  &  0     &  \\cdots & 0      &  1     &  -2    \\\\\n",
    "\\end{pmatrix}\n",
    "\\begin{pmatrix}\n",
    "u(x_1, t_{i})\\\\\n",
    "\\vdots\\\\\n",
    "\\vdots\\\\\n",
    "\\vdots\\\\\n",
    "u(x_N, t_{i})\\\\\n",
    "\\end{pmatrix}\n",
    "$$"
   ]
  },
  {
   "cell_type": "markdown",
   "metadata": {},
   "source": [
    "### Dirichlet境界条件"
   ]
  },
  {
   "cell_type": "markdown",
   "metadata": {},
   "source": [
    "# 反応拡散方程式\n",
    "反応拡散方程式は\n",
    "$$\n",
    "\\frac{\\partial u}{\\partial t} = D_u\\frac{\\partial^2 u}{\\partial x^2}  + f(u)\n",
    "$$\n",
    "と記述される．$f(u)$は反応項と呼ばれる．  \n",
    "これをさっきと同様に差分表現すると，"
   ]
  },
  {
   "cell_type": "markdown",
   "metadata": {},
   "source": [
    "$$\n",
    "\\frac{u(x_i, t_{n+1}) - u (x_i, t_n) }{\\varDelta t} = D_u \\frac{u(x_{i+1}, t_{n}) - 2u(x_i, t_n)+ u(x_{i-1}, t_n)}{\\varDelta x^2} + f(u(x_i,t_n)) \n",
    "$$"
   ]
  },
  {
   "cell_type": "markdown",
   "metadata": {},
   "source": [
    "となり，同じように$u(x_i, t_{n+1})$について整理すると，\n",
    "$$\n",
    "\\begin{aligned}\n",
    "u(x_i, t_{n+1}) - u (x_i, t_n)  &= \\varDelta t D_u \\frac{u(x_{i+1}, t_{n}) - 2u(x_i, t_n)+ u(x_{i-1}, t_n)}{\\varDelta x^2} + \\varDelta t f\\big(u(x_i, t_n)\\big) \\\\\n",
    "u(x_i, t_{n+1}) &= u (x_i, t_n) + \\frac{\\varDelta t}{\\varDelta x^2} \\Big(u(x_{i+1}, t_{n}) - 2u(x_i, t_n)+ u(x_{i-1}, t_n)\\Big)+ \\varDelta t f\\big(u(x_i, t_n)\\big)\\\\\n",
    "\\end{aligned}\n",
    "$$\n",
    "となるから，行列とベクトルを用いれば，"
   ]
  },
  {
   "cell_type": "markdown",
   "metadata": {},
   "source": [
    "$$\n",
    "\\begin{pmatrix}\n",
    "u(x_1, t_{i+1})\\\\\n",
    "\\vdots\\\\\n",
    "\\vdots\\\\\n",
    "\\vdots\\\\\n",
    "u(x_N, t_{i+1})\\\\\n",
    "\\end{pmatrix}\n",
    "=\n",
    "\\begin{pmatrix}\n",
    "u(x_1, t_{i})\\\\\n",
    "\\vdots\\\\\n",
    "\\vdots\\\\\n",
    "\\vdots\\\\\n",
    "u(x_N, t_{i})\\\\\n",
    "\\end{pmatrix}\n",
    "+\n",
    "D_u\\frac{\\varDelta t}{\\varDelta x^2}\n",
    "\\begin{pmatrix}\n",
    "-2     &   1    &  0      & \\cdots &   0    &  \\beta \\\\\n",
    "1      &  -2    &  1      & \\cdots &   0    &  0     \\\\\n",
    "0      &   1    &  \\ddots &        & \\vdots &  \\vdots\\\\\n",
    "\\vdots & \\vdots &  \\      & \\ddots &   1    &  0\\\\\n",
    "0      &  0     &  \\cdots & 1      &  -2    &  1     \\\\\n",
    "\\beta  &  0     &  \\cdots & 0      &  1     &  -2    \\\\\n",
    "\\end{pmatrix}\n",
    "\\begin{pmatrix}\n",
    "u(x_1, t_{i})\\\\\n",
    "\\vdots\\\\\n",
    "\\vdots\\\\\n",
    "\\vdots\\\\\n",
    "u(x_N, t_{i})\\\\\n",
    "\\end{pmatrix}\n",
    "\n",
    "+\n",
    "\\varDelta t\n",
    "\\begin{pmatrix}\n",
    "f(u(x_1, t_{i}))\\\\\n",
    "\\vdots\\\\\n",
    "\\vdots\\\\\n",
    "\\vdots\\\\\n",
    "f(u(x_N, t_{i}))\\\\\n",
    "\\end{pmatrix}\n",
    "$$"
   ]
  },
  {
   "cell_type": "markdown",
   "metadata": {},
   "source": []
  }
 ],
 "metadata": {
  "kernelspec": {
   "display_name": ".venv",
   "language": "python",
   "name": "python3"
  },
  "language_info": {
   "codemirror_mode": {
    "name": "ipython",
    "version": 3
   },
   "file_extension": ".py",
   "mimetype": "text/x-python",
   "name": "python",
   "nbconvert_exporter": "python",
   "pygments_lexer": "ipython3",
   "version": "3.12.7"
  }
 },
 "nbformat": 4,
 "nbformat_minor": 2
}
