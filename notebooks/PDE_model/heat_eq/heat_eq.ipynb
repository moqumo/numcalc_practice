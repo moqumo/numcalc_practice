{
 "cells": [
  {
   "cell_type": "code",
   "execution_count": 13,
   "metadata": {},
   "outputs": [],
   "source": [
    "import numpy as np\n",
    "import matplotlib.pyplot as plt\n",
    "import matplotlib.animation as animation"
   ]
  },
  {
   "cell_type": "code",
   "execution_count": 14,
   "metadata": {},
   "outputs": [],
   "source": [
    "# メッシュサイズと最大計算ステップ\n",
    "mesh_size = 21\n",
    "iter_max = 250\n",
    "\n",
    "# 刻み幅\n",
    "dx = 1/(mesh_size - 1)\n",
    "dt = 0.001\n",
    "r = dt/dx**2\n",
    "\n",
    "# 拡散係数\n",
    "Du = 1.0\n",
    "\n"
   ]
  },
  {
   "cell_type": "markdown",
   "metadata": {},
   "source": [
    "# 陽解法"
   ]
  },
  {
   "cell_type": "code",
   "execution_count": 15,
   "metadata": {},
   "outputs": [
    {
     "name": "stdout",
     "output_type": "stream",
     "text": [
      "0.6000000000000001\n"
     ]
    }
   ],
   "source": [
    "# 空間ベクトル\n",
    "u = np.zeros((mesh_size, 1)) # u(x, t)\n",
    "u_list = [u.copy()]\n",
    "\n",
    "# 安定条件の確認\n",
    "print(1- Du*r)"
   ]
  },
  {
   "cell_type": "code",
   "execution_count": 16,
   "metadata": {},
   "outputs": [],
   "source": [
    "# ラプラシアン\n",
    "A =  np.diag(np.ones(mesh_size-1), k=-1) + np.diag(-2*np.ones(mesh_size), k=0) + np.diag(np.ones(mesh_size-1), k=1)\n",
    "# 周期境界条件\n",
    "A[0, mesh_size-1] = 1\n",
    "A[mesh_size-1, 0] = 1"
   ]
  },
  {
   "cell_type": "code",
   "execution_count": 17,
   "metadata": {},
   "outputs": [],
   "source": [
    "# 初期分布\n",
    "for i in range(0,mesh_size):\n",
    "  X = i/(mesh_size-1)\n",
    "  if mesh_size//3 <=i and i <= 2 * mesh_size//3:\n",
    "    u[i,:] = 0.5\n",
    "  else:\n",
    "    u[i,:] = 0.0"
   ]
  },
  {
   "cell_type": "code",
   "execution_count": 18,
   "metadata": {},
   "outputs": [
    {
     "data": {
      "text/plain": [
       "<Figure size 640x480 with 0 Axes>"
      ]
     },
     "metadata": {},
     "output_type": "display_data"
    }
   ],
   "source": [
    "fig = plt.figure()\n",
    "graphs = []\n",
    "\n",
    "# 数値計算（陽解法）\n",
    "for t in range(0,iter_max):\n",
    "    u_next = u + r*np.dot(A, u)\n",
    "    u = u_next\n",
    "    if t%10 == 0:\n",
    "        u_list.append(u) "
   ]
  },
  {
   "cell_type": "code",
   "execution_count": null,
   "metadata": {},
   "outputs": [
    {
     "name": "stderr",
     "output_type": "stream",
     "text": [
      "MovieWriter imagemagick unavailable; using Pillow instead.\n"
     ]
    },
    {
     "data": {
      "image/png": "[encoded data removed]",
      "text/plain": [
       "<Figure size 600x400 with 1 Axes>"
      ]
     },
     "metadata": {},
     "output_type": "display_data"
    }
   ],
   "source": [
    "# アニメーション\n",
    "fig = plt.figure(figsize = (6,4))\n",
    "ax = fig.add_subplot(1,1,1)\n",
    "\n",
    "def update_func(i):\n",
    "    ax.clear()\n",
    "    ax.set_ylim(0, 0.6)\n",
    "    ax.set_xlim(0, 20.0)\n",
    "\n",
    "    ax.plot(u_list[i])\n",
    "    \n",
    "\n",
    "ani = animation.FuncAnimation(fig, update_func, frames=len(u_list), interval=200,repeat=True)\n",
    "ani.save('heat_explicit.gif', writer='imagemagick')\n",
    "\n",
    "# 表示\n",
    "plt.show()"
   ]
  },
  {
   "cell_type": "markdown",
   "metadata": {},
   "source": [
    "## 陰解法"
   ]
  },
  {
   "cell_type": "code",
   "execution_count": 20,
   "metadata": {},
   "outputs": [],
   "source": [
    "# 空間ベクトル\n",
    "u = np.zeros((mesh_size, 1)) # u(x, t)\n",
    "u_list = [u.copy()]"
   ]
  },
  {
   "cell_type": "code",
   "execution_count": null,
   "metadata": {},
   "outputs": [],
   "source": [
    "A =  np.diag((-Du*r)*np.ones(mesh_size-1), k=-1) + np.diag((1+2*Du*r)*np.ones(mesh_size), k=0) + np.diag((-Du*r)*np.ones(mesh_size-1), k=1)\n",
    "# 周期境界条件\n",
    "A[0, mesh_size-1] = -Du*r\n",
    "A[mesh_size-1, 0] = -Du*r\n",
    "\n",
    "Ainv = np.linalg.inv(A)"
   ]
  },
  {
   "cell_type": "code",
   "execution_count": 22,
   "metadata": {},
   "outputs": [],
   "source": [
    "# 初期分布\n",
    "for i in range(0,mesh_size):\n",
    "  X = i/(mesh_size-1)\n",
    "  if mesh_size//3 <=i and i <= 2 * mesh_size//3:\n",
    "    u[i,:] = 0.5\n",
    "  else:\n",
    "    u[i,:] = 0.0"
   ]
  },
  {
   "cell_type": "code",
   "execution_count": 23,
   "metadata": {},
   "outputs": [
    {
     "data": {
      "text/plain": [
       "<Figure size 640x480 with 0 Axes>"
      ]
     },
     "metadata": {},
     "output_type": "display_data"
    }
   ],
   "source": [
    "fig = plt.figure()\n",
    "graphs = []\n",
    "\n",
    "# 数値計算（陽解法）\n",
    "for t in range(0,iter_max):\n",
    "    u_next = np.dot(Ainv, u)\n",
    "    u = u_next\n",
    "    if t%10 == 0:\n",
    "        u_list.append(u) "
   ]
  },
  {
   "cell_type": "code",
   "execution_count": null,
   "metadata": {},
   "outputs": [
    {
     "name": "stderr",
     "output_type": "stream",
     "text": [
      "MovieWriter imagemagick unavailable; using Pillow instead.\n"
     ]
    },
    {
     "data": {
      "image/png": "[encoded data removed]",
      "text/plain": [
       "<Figure size 600x400 with 1 Axes>"
      ]
     },
     "metadata": {},
     "output_type": "display_data"
    }
   ],
   "source": [
    "# アニメーション\n",
    "fig = plt.figure(figsize = (6,4))\n",
    "ax = fig.add_subplot(1,1,1)\n",
    "\n",
    "def update_func(i):\n",
    "    ax.clear()\n",
    "    ax.set_ylim(0, 0.6)\n",
    "    ax.set_xlim(0, 20.0)\n",
    "\n",
    "    ax.plot(u_list[i])\n",
    "    \n",
    "\n",
    "ani = animation.FuncAnimation(fig, update_func, frames=len(u_list), interval=200,repeat=True)\n",
    "ani.save('heat_implicit.gif', writer='imagemagick')\n",
    "\n",
    "# 表示\n",
    "plt.show()"
   ]
  }
 ],
 "metadata": {
  "kernelspec": {
   "display_name": ".venv",
   "language": "python",
   "name": "python3"
  },
  "language_info": {
   "codemirror_mode": {
    "name": "ipython",
    "version": 3
   },
   "file_extension": ".py",
   "mimetype": "text/x-python",
   "name": "python",
   "nbconvert_exporter": "python",
   "pygments_lexer": "ipython3",
   "version": "3.12.7"
  }
 },
 "nbformat": 4,
 "nbformat_minor": 2
}
